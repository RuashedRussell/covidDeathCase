{
 "cells": [
  {
   "cell_type": "code",
   "execution_count": 1,
   "id": "daa881d7",
   "metadata": {},
   "outputs": [],
   "source": [
    "#Importing the modules\n",
    "import numpy as np \n",
    "from sklearn.preprocessing import PolynomialFeatures\n",
    "from sklearn.linear_model import LinearRegression\n",
    "import pandas as pd \n",
    "import matplotlib.pyplot as plt\n",
    "import os\n",
    "import pickle"
   ]
  },
  {
   "cell_type": "code",
   "execution_count": 39,
   "id": "3494ea3d",
   "metadata": {},
   "outputs": [],
   "source": [
    "#Loading the data sets\n",
    "df = pd.read_csv('C:/Users/DCL/Downloads/covid_dataset.csv')\n",
    "df.head()\n",
    "Days = np.array(df['Day'])\n",
    "#print(\"Days\",Days)\n",
    "Confirmed = np.array(df['Confirmed case'])\n",
    "#print(\"Confirmed\",Confirmed)\n",
    "Deaths = np.array(df['Death Case'])\n",
    "#print(\"Deaths\",Deaths)\n",
    "#Recovered = np.array(df['Recovered'])\n",
    "#print(\"Recovered\",Recovered)\n",
    "\n"
   ]
  },
  {
   "cell_type": "code",
   "execution_count": 40,
   "id": "907f01c5",
   "metadata": {},
   "outputs": [],
   "source": [
    "df.insert(0, 'NDays', range(1, 1 + len(df)))"
   ]
  },
  {
   "cell_type": "code",
   "execution_count": 41,
   "id": "0903b013",
   "metadata": {},
   "outputs": [
    {
     "data": {
      "text/html": [
       "<div>\n",
       "<style scoped>\n",
       "    .dataframe tbody tr th:only-of-type {\n",
       "        vertical-align: middle;\n",
       "    }\n",
       "\n",
       "    .dataframe tbody tr th {\n",
       "        vertical-align: top;\n",
       "    }\n",
       "\n",
       "    .dataframe thead th {\n",
       "        text-align: right;\n",
       "    }\n",
       "</style>\n",
       "<table border=\"1\" class=\"dataframe\">\n",
       "  <thead>\n",
       "    <tr style=\"text-align: right;\">\n",
       "      <th></th>\n",
       "      <th>NDays</th>\n",
       "      <th>Day</th>\n",
       "      <th>Lab Test</th>\n",
       "      <th>Confirmed case</th>\n",
       "      <th>Death Case</th>\n",
       "    </tr>\n",
       "  </thead>\n",
       "  <tbody>\n",
       "    <tr>\n",
       "      <th>0</th>\n",
       "      <td>1</td>\n",
       "      <td>2020-April-04</td>\n",
       "      <td>434</td>\n",
       "      <td>9</td>\n",
       "      <td>2</td>\n",
       "    </tr>\n",
       "    <tr>\n",
       "      <th>1</th>\n",
       "      <td>2</td>\n",
       "      <td>2020-April-05</td>\n",
       "      <td>367</td>\n",
       "      <td>18</td>\n",
       "      <td>1</td>\n",
       "    </tr>\n",
       "    <tr>\n",
       "      <th>2</th>\n",
       "      <td>3</td>\n",
       "      <td>2020-April-06</td>\n",
       "      <td>468</td>\n",
       "      <td>35</td>\n",
       "      <td>3</td>\n",
       "    </tr>\n",
       "    <tr>\n",
       "      <th>3</th>\n",
       "      <td>4</td>\n",
       "      <td>2020-April-07</td>\n",
       "      <td>679</td>\n",
       "      <td>41</td>\n",
       "      <td>5</td>\n",
       "    </tr>\n",
       "    <tr>\n",
       "      <th>4</th>\n",
       "      <td>5</td>\n",
       "      <td>2020-April-08</td>\n",
       "      <td>981</td>\n",
       "      <td>54</td>\n",
       "      <td>3</td>\n",
       "    </tr>\n",
       "  </tbody>\n",
       "</table>\n",
       "</div>"
      ],
      "text/plain": [
       "   NDays            Day  Lab Test  Confirmed case  Death Case\n",
       "0      1  2020-April-04       434               9           2\n",
       "1      2  2020-April-05       367              18           1\n",
       "2      3  2020-April-06       468              35           3\n",
       "3      4  2020-April-07       679              41           5\n",
       "4      5  2020-April-08       981              54           3"
      ]
     },
     "execution_count": 41,
     "metadata": {},
     "output_type": "execute_result"
    }
   ],
   "source": [
    "df.head()"
   ]
  },
  {
   "cell_type": "code",
   "execution_count": 42,
   "id": "a61a43d7",
   "metadata": {},
   "outputs": [],
   "source": [
    "Days = np.array(df['NDays'])\n",
    "#print(\"Days\",Days)"
   ]
  },
  {
   "cell_type": "code",
   "execution_count": 43,
   "id": "287e2c6b",
   "metadata": {},
   "outputs": [],
   "source": [
    "del df['Day']\n",
    "\n"
   ]
  },
  {
   "cell_type": "code",
   "execution_count": 44,
   "id": "c79c6b11",
   "metadata": {},
   "outputs": [
    {
     "data": {
      "text/html": [
       "<div>\n",
       "<style scoped>\n",
       "    .dataframe tbody tr th:only-of-type {\n",
       "        vertical-align: middle;\n",
       "    }\n",
       "\n",
       "    .dataframe tbody tr th {\n",
       "        vertical-align: top;\n",
       "    }\n",
       "\n",
       "    .dataframe thead th {\n",
       "        text-align: right;\n",
       "    }\n",
       "</style>\n",
       "<table border=\"1\" class=\"dataframe\">\n",
       "  <thead>\n",
       "    <tr style=\"text-align: right;\">\n",
       "      <th></th>\n",
       "      <th>NDays</th>\n",
       "      <th>Lab Test</th>\n",
       "      <th>Confirmed case</th>\n",
       "      <th>Death Case</th>\n",
       "    </tr>\n",
       "  </thead>\n",
       "  <tbody>\n",
       "    <tr>\n",
       "      <th>0</th>\n",
       "      <td>1</td>\n",
       "      <td>434</td>\n",
       "      <td>9</td>\n",
       "      <td>2</td>\n",
       "    </tr>\n",
       "    <tr>\n",
       "      <th>1</th>\n",
       "      <td>2</td>\n",
       "      <td>367</td>\n",
       "      <td>18</td>\n",
       "      <td>1</td>\n",
       "    </tr>\n",
       "    <tr>\n",
       "      <th>2</th>\n",
       "      <td>3</td>\n",
       "      <td>468</td>\n",
       "      <td>35</td>\n",
       "      <td>3</td>\n",
       "    </tr>\n",
       "    <tr>\n",
       "      <th>3</th>\n",
       "      <td>4</td>\n",
       "      <td>679</td>\n",
       "      <td>41</td>\n",
       "      <td>5</td>\n",
       "    </tr>\n",
       "    <tr>\n",
       "      <th>4</th>\n",
       "      <td>5</td>\n",
       "      <td>981</td>\n",
       "      <td>54</td>\n",
       "      <td>3</td>\n",
       "    </tr>\n",
       "  </tbody>\n",
       "</table>\n",
       "</div>"
      ],
      "text/plain": [
       "   NDays  Lab Test  Confirmed case  Death Case\n",
       "0      1       434               9           2\n",
       "1      2       367              18           1\n",
       "2      3       468              35           3\n",
       "3      4       679              41           5\n",
       "4      5       981              54           3"
      ]
     },
     "execution_count": 44,
     "metadata": {},
     "output_type": "execute_result"
    }
   ],
   "source": [
    "df.head()"
   ]
  },
  {
   "cell_type": "code",
   "execution_count": 45,
   "id": "82f9b03a",
   "metadata": {},
   "outputs": [],
   "source": [
    "del df['Lab Test']"
   ]
  },
  {
   "cell_type": "code",
   "execution_count": 46,
   "id": "2ea86196",
   "metadata": {},
   "outputs": [
    {
     "data": {
      "text/html": [
       "<div>\n",
       "<style scoped>\n",
       "    .dataframe tbody tr th:only-of-type {\n",
       "        vertical-align: middle;\n",
       "    }\n",
       "\n",
       "    .dataframe tbody tr th {\n",
       "        vertical-align: top;\n",
       "    }\n",
       "\n",
       "    .dataframe thead th {\n",
       "        text-align: right;\n",
       "    }\n",
       "</style>\n",
       "<table border=\"1\" class=\"dataframe\">\n",
       "  <thead>\n",
       "    <tr style=\"text-align: right;\">\n",
       "      <th></th>\n",
       "      <th>NDays</th>\n",
       "      <th>Confirmed case</th>\n",
       "      <th>Death Case</th>\n",
       "    </tr>\n",
       "  </thead>\n",
       "  <tbody>\n",
       "    <tr>\n",
       "      <th>0</th>\n",
       "      <td>1</td>\n",
       "      <td>9</td>\n",
       "      <td>2</td>\n",
       "    </tr>\n",
       "    <tr>\n",
       "      <th>1</th>\n",
       "      <td>2</td>\n",
       "      <td>18</td>\n",
       "      <td>1</td>\n",
       "    </tr>\n",
       "    <tr>\n",
       "      <th>2</th>\n",
       "      <td>3</td>\n",
       "      <td>35</td>\n",
       "      <td>3</td>\n",
       "    </tr>\n",
       "    <tr>\n",
       "      <th>3</th>\n",
       "      <td>4</td>\n",
       "      <td>41</td>\n",
       "      <td>5</td>\n",
       "    </tr>\n",
       "    <tr>\n",
       "      <th>4</th>\n",
       "      <td>5</td>\n",
       "      <td>54</td>\n",
       "      <td>3</td>\n",
       "    </tr>\n",
       "  </tbody>\n",
       "</table>\n",
       "</div>"
      ],
      "text/plain": [
       "   NDays  Confirmed case  Death Case\n",
       "0      1               9           2\n",
       "1      2              18           1\n",
       "2      3              35           3\n",
       "3      4              41           5\n",
       "4      5              54           3"
      ]
     },
     "execution_count": 46,
     "metadata": {},
     "output_type": "execute_result"
    }
   ],
   "source": [
    "df.head()"
   ]
  },
  {
   "cell_type": "code",
   "execution_count": 47,
   "id": "281e853d",
   "metadata": {},
   "outputs": [],
   "source": [
    "#Creating randon indices for spliting the data set\n",
    "random_indices = np.random.permutation(626)\n",
    "#print(random_indices)"
   ]
  },
  {
   "cell_type": "code",
   "execution_count": null,
   "id": "77d533b1",
   "metadata": {},
   "outputs": [],
   "source": []
  },
  {
   "cell_type": "code",
   "execution_count": 48,
   "id": "b76a25ea",
   "metadata": {},
   "outputs": [],
   "source": [
    "#Input train/test feature\n",
    "Days_train = Days[random_indices[:]]\n",
    "#Days_test = Day[random_indices[:]]"
   ]
  },
  {
   "cell_type": "code",
   "execution_count": 39,
   "id": "10ffd66a",
   "metadata": {},
   "outputs": [],
   "source": []
  },
  {
   "cell_type": "code",
   "execution_count": 49,
   "id": "11550ca9",
   "metadata": {},
   "outputs": [],
   "source": [
    "#Output train/test feature\n",
    "Confirmed_train = Confirmed[random_indices[:]]\n",
    "#Confirmed_test = Confirmed[random_indices[58:]]\n",
    "\n",
    "Deaths_train = Deaths[random_indices[:]]\n",
    "#Deaths_test = Deaths[random_indices[58:]]"
   ]
  },
  {
   "cell_type": "code",
   "execution_count": 50,
   "id": "27ca331a",
   "metadata": {},
   "outputs": [
    {
     "name": "stdout",
     "output_type": "stream",
     "text": [
      "626\n",
      "626\n"
     ]
    }
   ],
   "source": [
    "#Cheaking the lenth of taring sample\n",
    "print(len(Confirmed_train))\n",
    "print(len(Deaths_train))"
   ]
  },
  {
   "cell_type": "code",
   "execution_count": 51,
   "id": "a99e9049",
   "metadata": {},
   "outputs": [],
   "source": [
    "#Using Linear Regression \n",
    "#Function for training the model with decision tree\n",
    "#Parameter of the functions are:\n",
    "    #1. x_train = input feature training set\n",
    "    #2. y_train = output feature training set\n",
    "    \n",
    "    \n",
    "def model_train(x_train,y_train):\n",
    "    #fitting the data into the model\n",
    "    model = linear_model.LinearRegression()#Creating instance of linear model\n",
    "    #sklearn takes input as matrix so the we have to reshape the matrix into colloum matrix\n",
    "    x_train_for_fittng = np.matrix(x_train.reshape(len(x_train),1))\n",
    "    y_train_for_fittng = np.matrix(y_train.reshape(len(y_train),1))\n",
    "    \n",
    "    #fit the data into the model\n",
    "    return(model.fit(x_train_for_fittng,y_train_for_fittng))"
   ]
  },
  {
   "cell_type": "code",
   "execution_count": 18,
   "id": "edef65fe",
   "metadata": {},
   "outputs": [
    {
     "data": {
      "text/plain": [
       "'#Calling the Linear regrassing function\\nmodel = model_train(Days_train,Confirmed_train)\\nmodel_prediction = model.predict(Days.reshape((len(Days),1)))\\n\\n#Ploring the curve(Red : Traning Data, GREEN : Prediction  )\\nplt.scatter(Days_train,Confirmed_train,color=\"red\")\\nplt.plot(Days.reshape((len(Days),1)),model_prediction,color=\"green\")'"
      ]
     },
     "execution_count": 18,
     "metadata": {},
     "output_type": "execute_result"
    }
   ],
   "source": [
    "'''#Calling the Linear regrassing function\n",
    "model = model_train(Days_train,Confirmed_train)\n",
    "model_prediction = model.predict(Days.reshape((len(Days),1)))\n",
    "\n",
    "#Ploring the curve(Red : Traning Data, GREEN : Prediction  )\n",
    "plt.scatter(Days_train,Confirmed_train,color=\"red\")\n",
    "plt.plot(Days.reshape((len(Days),1)),model_prediction,color=\"green\")'''"
   ]
  },
  {
   "cell_type": "code",
   "execution_count": 52,
   "id": "9edb61de",
   "metadata": {},
   "outputs": [],
   "source": [
    "#Function for Polynomial regrassing function\n",
    "def poly_regr(X_train,Y_train,degree):\n",
    "    polynom = PolynomialFeatures(degree=degree)\n",
    "    X_poly = polynom.fit_transform(X_train.reshape(len(X_train),1))\n",
    "    polyReg = LinearRegression()\n",
    "    #Returing the fitted model\n",
    "    return polyReg.fit(X_poly,Y_train.reshape(len(Y_train),1)) "
   ]
  },
  {
   "cell_type": "code",
   "execution_count": 53,
   "id": "5ba1cfd8",
   "metadata": {},
   "outputs": [
    {
     "name": "stdout",
     "output_type": "stream",
     "text": [
      "LinearRegression()\n"
     ]
    }
   ],
   "source": [
    "#calling the plynomial regrassion model for confirm case\n",
    "polynom = PolynomialFeatures(degree=4)\n",
    "model = poly_regr(Days_train,Confirmed_train,4)\n",
    "#Printing the model\n",
    "print(model)\n",
    "\n",
    "#Savhing the model into required dictory\n",
    "'''import pickle\n",
    "#creation a binary file first\n",
    "with open('D:\\Project\\Corona_virus\\Andriod_app\\Andriod_app\\covi19ModelConfirm','wb') as f:\n",
    "    pickle.dump(model,f)'''\n",
    "\n",
    "#Pridiction the mode on traning data\n",
    "predict = model.predict(polynom.fit_transform(Days_train.reshape(len(Days_train),1)))\n",
    "#print(predict)"
   ]
  },
  {
   "cell_type": "code",
   "execution_count": null,
   "id": "131a91f4",
   "metadata": {},
   "outputs": [],
   "source": []
  },
  {
   "cell_type": "code",
   "execution_count": 54,
   "id": "2fcb92e5",
   "metadata": {},
   "outputs": [
    {
     "data": {
      "text/plain": [
       "\"#creation a binary file first\\nwith open('D:\\\\Project\\\\Corona_virus\\\\Andriod_app\\\\Andriod_app\\\\covi19ModelConfirm','wb') as f:\\n    pickle.dump(model,f)\""
      ]
     },
     "execution_count": 54,
     "metadata": {},
     "output_type": "execute_result"
    }
   ],
   "source": [
    "#Creating Array of custom Days\n",
    "Days_array = []\n",
    "#Creating Days Data for further Prediction\n",
    "for i in range(1,550):\n",
    "    Days_array.append(i) \n",
    "#Converting arary into np array    \n",
    "Days_predict = np.array(Days_array)\n",
    "#Predict the model on Future Date \n",
    "predict_Confirm = model.predict(polynom.fit_transform(Days_predict.reshape(len(Days_predict),1)))\n",
    "\n",
    "'''#creation a binary file first\n",
    "with open('D:\\Project\\Corona_virus\\Andriod_app\\Andriod_app\\covi19ModelConfirm','wb') as f:\n",
    "    pickle.dump(model,f)'''\n",
    "    "
   ]
  },
  {
   "cell_type": "code",
   "execution_count": 55,
   "id": "3a8f3201",
   "metadata": {},
   "outputs": [
    {
     "data": {
      "text/plain": [
       "[<matplotlib.lines.Line2D at 0x2a397e04ee0>]"
      ]
     },
     "execution_count": 55,
     "metadata": {},
     "output_type": "execute_result"
    },
    {
     "data": {
      "image/png": "[encoded data removed]",
      "text/plain": [
       "<Figure size 432x288 with 1 Axes>"
      ]
     },
     "metadata": {
      "needs_background": "light"
     },
     "output_type": "display_data"
    }
   ],
   "source": [
    "#Ploting the curve(Red: Traning Data, Blue: Future Prediction) for confirm case\n",
    "plt.scatter(Days_train,Confirmed_train,color=\"red\")\n",
    "plt.plot(Days_predict,predict_Confirm,color='blue')"
   ]
  },
  {
   "cell_type": "code",
   "execution_count": 56,
   "id": "68028823",
   "metadata": {},
   "outputs": [
    {
     "name": "stdout",
     "output_type": "stream",
     "text": [
      "LinearRegression()\n"
     ]
    }
   ],
   "source": [
    "#calling the plynomial regrassion model for Death Case\n",
    "polynom = PolynomialFeatures(degree=4)\n",
    "model = poly_regr(Days_train,Deaths_train,4)\n",
    "#Printing the model\n",
    "print(model)\n",
    "\n",
    "'''#Savhing the model into required dictory\n",
    "#creation a binary file first\n",
    "with open('D:\\Project\\Corona_virus\\Andriod_app\\Andriod_app\\covi19ModelDeath','wb') as f:\n",
    "    pickle.dump(model,f)'''\n",
    "    \n",
    "    \n",
    "#Pridiction the mode on traning data\n",
    "predict = model.predict(polynom.fit_transform(Days_train.reshape(len(Days_train),1)))"
   ]
  },
  {
   "cell_type": "code",
   "execution_count": 57,
   "id": "484b015b",
   "metadata": {},
   "outputs": [],
   "source": [
    "#Predict the model on Future Date \n",
    "predict_Death = model.predict(polynom.fit_transform(Days_predict.reshape(len(Days_predict),1)))"
   ]
  },
  {
   "cell_type": "code",
   "execution_count": 58,
   "id": "48ad101e",
   "metadata": {},
   "outputs": [
    {
     "data": {
      "text/plain": [
       "[<matplotlib.lines.Line2D at 0x2a397e7b340>]"
      ]
     },
     "execution_count": 58,
     "metadata": {},
     "output_type": "execute_result"
    },
    {
     "data": {
      "image/png": "[encoded data removed]",
      "text/plain": [
       "<Figure size 432x288 with 1 Axes>"
      ]
     },
     "metadata": {
      "needs_background": "light"
     },
     "output_type": "display_data"
    }
   ],
   "source": [
    "#Ploting the curve(Red: Traning Data, Blue: Future Prediction) for Death case\n",
    "plt.scatter(Days_train,Deaths_train,color=\"red\")\n",
    "plt.plot(Days_predict,predict_Death,color='blue')"
   ]
  },
  {
   "cell_type": "code",
   "execution_count": null,
   "id": "86b4cb72",
   "metadata": {},
   "outputs": [],
   "source": []
  }
 ],
 "metadata": {
  "kernelspec": {
   "display_name": "Python 3 (ipykernel)",
   "language": "python",
   "name": "python3"
  },
  "language_info": {
   "codemirror_mode": {
    "name": "ipython",
    "version": 3
   },
   "file_extension": ".py",
   "mimetype": "text/x-python",
   "name": "python",
   "nbconvert_exporter": "python",
   "pygments_lexer": "ipython3",
   "version": "3.9.7"
  }
 },
 "nbformat": 4,
 "nbformat_minor": 5
}
